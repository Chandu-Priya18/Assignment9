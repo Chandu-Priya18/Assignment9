{
  "nbformat": 4,
  "nbformat_minor": 0,
  "metadata": {
    "colab": {
      "name": "Assignment9",
      "provenance": [],
      "collapsed_sections": []
    },
    "kernelspec": {
      "name": "python3",
      "display_name": "Python 3"
    }
  },
  "cells": [
    {
      "cell_type": "code",
      "metadata": {
        "id": "wTvJ9ACqdJ9H",
        "colab_type": "code",
        "colab": {
          "base_uri": "https://localhost:8080/",
          "height": 34
        },
        "outputId": "27c4d6e7-69ae-4ea1-d9a3-2e820521ed79"
      },
      "source": [
        "# 1)python program to sum all the items in a list\n",
        "list1 = [11, 5, 17, 18, 23] \n",
        "total = sum(list1)\n",
        "print(\"Sum of all elements in given list: \", total)"
      ],
      "execution_count": 1,
      "outputs": [
        {
          "output_type": "stream",
          "text": [
            "Sum of all elements in given list:  74\n"
          ],
          "name": "stdout"
        }
      ]
    },
    {
      "cell_type": "code",
      "metadata": {
        "id": "W67Y5ilUdXNT",
        "colab_type": "code",
        "colab": {
          "base_uri": "https://localhost:8080/",
          "height": 51
        },
        "outputId": "ec06c3b2-5457-41aa-c081-cc76f785fc2d"
      },
      "source": [
        "# 2)python program to multiplies all the elements in a list\n",
        "def multiplyList(myList) : \n",
        "    result = 1\n",
        "    for x in myList: \n",
        "         result = result * x  \n",
        "    return result   \n",
        "list1 = [1, 2, 3]  \n",
        "list2 = [3, 2, 4] \n",
        "print(multiplyList(list1)) \n",
        "print(multiplyList(list2))"
      ],
      "execution_count": 2,
      "outputs": [
        {
          "output_type": "stream",
          "text": [
            "6\n",
            "24\n"
          ],
          "name": "stdout"
        }
      ]
    },
    {
      "cell_type": "code",
      "metadata": {
        "id": "4C6Q4I0ndeEK",
        "colab_type": "code",
        "colab": {
          "base_uri": "https://localhost:8080/",
          "height": 51
        },
        "outputId": "ed7e5465-0de6-4ed7-99f0-2d35c85c0936"
      },
      "source": [
        "# 3)python program to get the largest and smallest number from a list\n",
        "list1 = [10, 20, 4, 45, 99]  \n",
        "print(\"Largest element is:\", max(list1))\n",
        "print(\"Smallest element is:\", min(list1))"
      ],
      "execution_count": 3,
      "outputs": [
        {
          "output_type": "stream",
          "text": [
            "Largest element is: 99\n",
            "Smallest element is: 4\n"
          ],
          "name": "stdout"
        }
      ]
    },
    {
      "cell_type": "code",
      "metadata": {
        "id": "oGOqweVxdkHJ",
        "colab_type": "code",
        "colab": {
          "base_uri": "https://localhost:8080/",
          "height": 34
        },
        "outputId": "0910f039-9603-4394-92d0-9d5ea1291615"
      },
      "source": [
        "# 4)python program to remove duplicate from a list\n",
        "def Remove(duplicate): \n",
        "    final_list = [] \n",
        "    for num in duplicate: \n",
        "        if num not in final_list: \n",
        "            final_list.append(num) \n",
        "    return final_list \n",
        "duplicate = [2, 4, 10, 20, 5, 2, 20, 4] \n",
        "print(Remove(duplicate))"
      ],
      "execution_count": 4,
      "outputs": [
        {
          "output_type": "stream",
          "text": [
            "[2, 4, 10, 20, 5]\n"
          ],
          "name": "stdout"
        }
      ]
    },
    {
      "cell_type": "code",
      "metadata": {
        "id": "mrtQ2McFdnTX",
        "colab_type": "code",
        "colab": {
          "base_uri": "https://localhost:8080/",
          "height": 34
        },
        "outputId": "ab0fc3d1-382e-49ab-c646-17519a766dd8"
      },
      "source": [
        "# 5)python program to check a list is empty or not\n",
        "a=[3,4] \n",
        "if not a:\n",
        "    print (\"list is empty\")\n",
        "else:\n",
        "    print (\"list is not empty\")"
      ],
      "execution_count": 5,
      "outputs": [
        {
          "output_type": "stream",
          "text": [
            "list is not empty\n"
          ],
          "name": "stdout"
        }
      ]
    },
    {
      "cell_type": "code",
      "metadata": {
        "id": "96mL8zVOdq5_",
        "colab_type": "code",
        "colab": {}
      },
      "source": [
        ""
      ],
      "execution_count": null,
      "outputs": []
    }
  ]
}